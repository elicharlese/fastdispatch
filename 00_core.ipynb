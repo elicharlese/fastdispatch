{
 "cells": [
  {
   "cell_type": "code",
   "execution_count": null,
   "metadata": {},
   "outputs": [],
   "source": [
    "#| default_exp core"
   ]
  },
  {
   "cell_type": "markdown",
   "metadata": {},
   "source": [
    "# core\n",
    "\n",
    "> plum-dispatch extensions"
   ]
  },
  {
   "cell_type": "markdown",
   "metadata": {},
   "source": [
    "`fastdispatch` extends the wonderful [`plum`](https://app.reviewnb.com/fastai/fastcore/pull/415/#:~:text=extends%20the%20wonderful-,plum,-library%27s%20implementation%20of)'s Julia-inspired implementation of multiple dispatch for Python."
   ]
  },
  {
   "cell_type": "code",
   "execution_count": null,
   "metadata": {},
   "outputs": [],
   "source": [
    "#|export\n",
    "from __future__ import annotations\n",
    "import inspect\n",
    "from fastcore.meta import *\n",
    "from fastcore.utils import *\n",
    "from plum import Function, Dispatcher"
   ]
  },
  {
   "cell_type": "code",
   "execution_count": null,
   "metadata": {},
   "outputs": [],
   "source": [
    "import numpy as np\n",
    "from fastcore.test import *"
   ]
  },
  {
   "cell_type": "code",
   "execution_count": null,
   "metadata": {},
   "outputs": [],
   "source": [
    "#|hide\n",
    "from nbprocess.showdoc import *"
   ]
  },
  {
   "cell_type": "code",
   "execution_count": null,
   "metadata": {},
   "outputs": [],
   "source": [
    "#|export\n",
    "def _eval_annotations(f):\n",
    "    \"Evaluate future annotations before passing to plum to support backported union operator `|`\"\n",
    "    f = copy_func(f)\n",
    "    for k, v in type_hints(f).items(): f.__annotations__[k] = Union[v] if isinstance(v, tuple) else v\n",
    "    return f"
   ]
  },
  {
   "cell_type": "code",
   "execution_count": null,
   "metadata": {},
   "outputs": [],
   "source": [
    "#|hide\n",
    "def f(x:int|str) -> float: pass\n",
    "test_eq(_eval_annotations(f).__annotations__, {'x': typing.Union[int, str], 'return': float})\n",
    "def f(x:(int,str)) -> float: pass\n",
    "test_eq(_eval_annotations(f).__annotations__, {'x': typing.Union[int, str], 'return': float})\n",
    "def f(x): pass\n",
    "test_eq(_eval_annotations(f).__annotations__, {})"
   ]
  },
  {
   "cell_type": "code",
   "execution_count": null,
   "metadata": {},
   "outputs": [],
   "source": [
    "#|export\n",
    "def _pt_repr(o):\n",
    "    \"Concise repr of plum types\"\n",
    "    n = type(o).__name__\n",
    "    if n == 'Tuple': return f\"{n.lower()}[{','.join(_pt_repr(t) for t in o._el_types)}]\"\n",
    "    if n == 'List': return f'{n.lower()}[{_pt_repr(o._el_type)}]'\n",
    "    if n == 'Dict': return f'{n.lower()}[{_pt_repr(o._key_type)},{_pt_repr(o._value_type)}]'\n",
    "    if n in ('Sequence','Iterable'): return f'{n}[{_pt_repr(o._el_type)}]'\n",
    "    if n == 'VarArgs': return f'{n}[{_pt_repr(o.type)}]'\n",
    "    if n == 'Union': return '|'.join(sorted(t.__name__ for t in (o.get_types())))\n",
    "    assert len(o.get_types()) == 1\n",
    "    return o.get_types()[0].__name__"
   ]
  },
  {
   "cell_type": "code",
   "execution_count": null,
   "metadata": {},
   "outputs": [],
   "source": [
    "#|hide\n",
    "from typing import Dict, List, Iterable, Sequence, Tuple\n",
    "from plum.type import VarArgs, ptype\n",
    "\n",
    "test_eq(_pt_repr(ptype(int)), 'int')\n",
    "test_eq(_pt_repr(ptype(Union[int, str])), 'int|str')\n",
    "test_eq(_pt_repr(ptype(Tuple[int, str])), 'tuple[int,str]')\n",
    "test_eq(_pt_repr(ptype(List[int])), 'list[int]')\n",
    "test_eq(_pt_repr(ptype(Sequence[int])), 'Sequence[int]')\n",
    "test_eq(_pt_repr(ptype(Iterable[int])), 'Iterable[int]')\n",
    "test_eq(_pt_repr(ptype(Dict[str, int])), 'dict[str,int]')\n",
    "test_eq(_pt_repr(ptype(VarArgs[str])), 'VarArgs[str]')\n",
    "test_eq(_pt_repr(ptype(Dict[Tuple[Union[int,str],float], List[Tuple[object]]])),\n",
    "        'dict[tuple[int|str,float],list[tuple[object]]]')"
   ]
  },
  {
   "cell_type": "markdown",
   "metadata": {},
   "source": [
    "### FastFunction -"
   ]
  },
  {
   "cell_type": "code",
   "execution_count": null,
   "metadata": {},
   "outputs": [],
   "source": [
    "#|export\n",
    "class FastFunction(Function):\n",
    "    \"Multiple dispatched function; extends `plum.Function`\"\n",
    "    def __repr__(self):\n",
    "        return '\\n'.join(f\"{f.__name__}({','.join(_pt_repr(t) for t in s.types)}) -> {_pt_repr(r)}\"\n",
    "                         for s, (f, r) in self.methods.items())\n",
    "\n",
    "    def dispatch(self, f=None, precedence=0):\n",
    "        return super().dispatch(_eval_annotations(f), precedence)\n",
    "\n",
    "    def register(self, signature, f, precedence=0, return_type=object, delayed=None):\n",
    "        self.__signature__ = inspect.signature(f)\n",
    "        return super().register(signature, f, precedence, return_type, delayed)\n",
    "\n",
    "    def __getitem__(self, ts):\n",
    "        \"Return the most-specific matching method with fewest parameters\"\n",
    "        ts = L(ts)\n",
    "        nargs = min(len(o) for o in self.methods.keys())\n",
    "        while len(ts) < nargs: ts.append(object)\n",
    "        return self.invoke(*ts)"
   ]
  },
  {
   "cell_type": "markdown",
   "metadata": {},
   "source": [
    "It has a concise `repr`:"
   ]
  },
  {
   "cell_type": "code",
   "execution_count": null,
   "metadata": {},
   "outputs": [
    {
     "data": {
      "text/plain": [
       "f(int) -> float"
      ]
     },
     "execution_count": null,
     "metadata": {},
     "output_type": "execute_result"
    }
   ],
   "source": [
    "def f(x:int) -> float: pass\n",
    "f = FastFunction(f).dispatch(f)\n",
    "f"
   ]
  },
  {
   "cell_type": "markdown",
   "metadata": {},
   "source": [
    "It supports `fastcore`'s backport of the `|` operator on types:"
   ]
  },
  {
   "cell_type": "code",
   "execution_count": null,
   "metadata": {},
   "outputs": [],
   "source": [
    "def f1(x):          return 'obj'\n",
    "def f2(x:int|str): return 'int|str'\n",
    "f = FastFunction(f1).dispatch(f1).dispatch(f2)\n",
    "\n",
    "test_eq(f(0),   'int|str')\n",
    "test_eq(f(''),  'int|str')\n",
    "test_eq(f(0.0), 'obj')"
   ]
  },
  {
   "cell_type": "markdown",
   "metadata": {},
   "source": [
    "Indexing a `FastFunction` works like [`plum.Function.invoke`](https://github.com/wesselb/plum#directly-invoke-a-method) but returns the most-specific matching method with the fewest parameters:"
   ]
  },
  {
   "cell_type": "code",
   "execution_count": null,
   "metadata": {},
   "outputs": [],
   "source": [
    "def f1(a:int,   b,     c):    return 'int, 3 args'\n",
    "def f2(a:int,   b,     c, d): return 'int, 4 args'\n",
    "def f3(a:float, b,     c):    return 'float, 3 args'\n",
    "def f4(a:float, b:str, c):    return 'float, str, 3 args'\n",
    "f = FastFunction(f1).dispatch(f1).dispatch(f2).dispatch(f3).dispatch(f4)\n",
    "\n",
    "test_eq(f[int](0,0,0),        'int, 3 args')\n",
    "test_eq(f[float](0,0,0),      'float, 3 args')\n",
    "test_eq(f[float](0,0,0),      'float, 3 args')\n",
    "test_eq(f[float, str](0,0,0), 'float, str, 3 args')"
   ]
  },
  {
   "cell_type": "markdown",
   "metadata": {},
   "source": [
    "### FastDispatcher -"
   ]
  },
  {
   "cell_type": "code",
   "execution_count": null,
   "metadata": {},
   "outputs": [],
   "source": [
    "#|export\n",
    "class FastDispatcher(Dispatcher):\n",
    "    \"Namespace for multiple dispatched functions; extends `plum.Dispatcher`\"\n",
    "    def _get_function(self, method, owner):\n",
    "        \"Adapted from `Dispatcher._get_function` to use `FastFunction`\"\n",
    "        name = method.__name__\n",
    "        if owner:\n",
    "            if owner not in self._classes: self._classes[owner] = {}\n",
    "            namespace = self._classes[owner]\n",
    "        else: namespace = self._functions\n",
    "        if name not in namespace: namespace[name] = FastFunction(method, owner=owner)\n",
    "        return namespace[name]\n",
    "\n",
    "    def __call__(self, f, precedence=0):\n",
    "        \"Decorator for a particular signature\"\n",
    "        return super().__call__(_eval_annotations(f), precedence)\n",
    "\n",
    "dispatch = FastDispatcher()"
   ]
  },
  {
   "cell_type": "code",
   "execution_count": null,
   "metadata": {},
   "outputs": [],
   "source": [
    "dispatch = FastDispatcher()"
   ]
  },
  {
   "cell_type": "markdown",
   "metadata": {},
   "source": [
    "Dispatching with `FastDispatcher` returns a `FastFunction`:"
   ]
  },
  {
   "cell_type": "code",
   "execution_count": null,
   "metadata": {},
   "outputs": [],
   "source": [
    "@dispatch\n",
    "def f(x): return 'obj'\n",
    "\n",
    "assert isinstance(f, FastFunction)"
   ]
  },
  {
   "cell_type": "markdown",
   "metadata": {},
   "source": [
    "It supports fastcore's backport of the `|` operator on types:"
   ]
  },
  {
   "cell_type": "code",
   "execution_count": null,
   "metadata": {},
   "outputs": [],
   "source": [
    "@dispatch\n",
    "def f(x:int|str): return 'int|str'\n",
    "\n",
    "test_eq(f(0),   'int|str')\n",
    "test_eq(f(''),  'int|str')\n",
    "test_eq(f(0.0), 'obj')"
   ]
  },
  {
   "cell_type": "markdown",
   "metadata": {},
   "source": [
    "... `FastDispatcher.multi` works too:"
   ]
  },
  {
   "cell_type": "code",
   "execution_count": null,
   "metadata": {},
   "outputs": [],
   "source": [
    "@dispatch.multi([bool],[list])\n",
    "def f(x:bool|list): return 'bool|list'\n",
    "@dispatch\n",
    "def f(x:int): return 'int'\n",
    "\n",
    "test_eq(f(True), 'bool|list')\n",
    "test_eq(f([]),   'bool|list')\n",
    "test_eq(f(0),    'int')"
   ]
  },
  {
   "cell_type": "markdown",
   "metadata": {},
   "source": [
    "#### FastDispatcher.to -"
   ]
  },
  {
   "cell_type": "code",
   "execution_count": null,
   "metadata": {},
   "outputs": [],
   "source": [
    "#|export\n",
    "@patch\n",
    "def _to(self:FastDispatcher, cls, nm, f, **kwargs):\n",
    "    nf = copy_func(f)\n",
    "    nf.__qualname__ = f'{cls.__name__}.{nm}' # plum uses __qualname__ to infer f's owner\n",
    "    pf = self(nf, **kwargs)\n",
    "    # plum uses __set_name__ to resolve a plum.Function's owner\n",
    "    # since we assign after class creation, __set_name__ must be called directly\n",
    "    # source: https://docs.python.org/3/reference/datamodel.html#object.__set_name__\n",
    "    pf.__set_name__(cls, nm)\n",
    "    pf = pf.resolve()\n",
    "    setattr(cls, nm, pf)\n",
    "    return pf\n",
    "\n",
    "@patch\n",
    "def to(self:FastDispatcher, cls):\n",
    "    \"Decorator: dispatch `f` to `cls.f`\"\n",
    "    def _inner(f, **kwargs):\n",
    "        nm = f.__name__\n",
    "        # check __dict__ to avoid inherited methods but use getattr so pf.__get__ is called, which plum relies on\n",
    "        if nm in cls.__dict__:\n",
    "            pf = getattr(cls, nm)\n",
    "            if not hasattr(pf, 'dispatch'): pf = self._to(cls, nm, pf, **kwargs)\n",
    "            pf.dispatch(f)\n",
    "        else: pf = self._to(cls, nm, f, **kwargs)\n",
    "        return pf\n",
    "    return _inner"
   ]
  },
  {
   "cell_type": "markdown",
   "metadata": {},
   "source": [
    "This lets you dynamically extend dispatched methods:"
   ]
  },
  {
   "cell_type": "code",
   "execution_count": null,
   "metadata": {},
   "outputs": [],
   "source": [
    "class A:\n",
    "    @dispatch\n",
    "    def f(self, x): return 'obj'\n",
    "\n",
    "@dispatch.to(A)\n",
    "def f(self, x:int): return 'int'\n",
    "\n",
    "a = A()\n",
    "test_eq(a.f(0), 'int')\n",
    "test_eq(a.f(''), 'obj')"
   ]
  },
  {
   "cell_type": "markdown",
   "metadata": {},
   "source": [
    "#### Tests -"
   ]
  },
  {
   "cell_type": "code",
   "execution_count": null,
   "metadata": {},
   "outputs": [],
   "source": [
    "#|hide\n",
    "#Call `to` twice consecutively\n",
    "class A: pass\n",
    "\n",
    "@dispatch.to(A)\n",
    "def f(self, x:int): return 'int'\n",
    "\n",
    "a = A()\n",
    "test_eq(a.f(0), 'int')\n",
    "\n",
    "@dispatch.to(A)\n",
    "def f(self, x:str): return 'str'\n",
    "\n",
    "test_eq(a.f(''), 'str')"
   ]
  },
  {
   "cell_type": "code",
   "execution_count": null,
   "metadata": {},
   "outputs": [],
   "source": [
    "#|hide\n",
    "#Call `to` on an ordinary method (not a `FastFunction`)\n",
    "class A:\n",
    "    def f(self, x): return 'obj'\n",
    "\n",
    "@dispatch.to(A)\n",
    "def f(self, x:int): return 'int'\n",
    "\n",
    "a = A()\n",
    "test_eq(a.f(0), 'int')\n",
    "test_eq(a.f(''), 'obj')"
   ]
  },
  {
   "cell_type": "code",
   "execution_count": null,
   "metadata": {},
   "outputs": [],
   "source": [
    "#|hide\n",
    "#Calling `to` when there is a matching inherited method doesn't alter the base class\n",
    "#but still dispatches to it\n",
    "class A:\n",
    "    def f(self, x): return 'A'\n",
    "Af = A.f\n",
    "class B(A):\n",
    "    @dispatch\n",
    "    def f(self, x:int): return 'B'\n",
    "test_is(Af, A.f)\n",
    "b = B()\n",
    "test_eq(b.f(0), 'B')\n",
    "test_eq(b.f(''), 'A')"
   ]
  },
  {
   "cell_type": "markdown",
   "metadata": {},
   "source": [
    "## Casting"
   ]
  },
  {
   "cell_type": "markdown",
   "metadata": {},
   "source": [
    "Now that we can dispatch on types, let's make it easier to cast objects to a different type."
   ]
  },
  {
   "cell_type": "code",
   "execution_count": null,
   "metadata": {},
   "outputs": [],
   "source": [
    "#|export\n",
    "_all_=['cast']"
   ]
  },
  {
   "cell_type": "code",
   "execution_count": null,
   "metadata": {},
   "outputs": [],
   "source": [
    "#|export\n",
    "def retain_meta(x, res, as_copy=False):\n",
    "    \"Call `res.set_meta(x)`, if it exists\"\n",
    "    if hasattr(res,'set_meta'): res.set_meta(x, as_copy=as_copy)\n",
    "    return res"
   ]
  },
  {
   "cell_type": "code",
   "execution_count": null,
   "metadata": {},
   "outputs": [],
   "source": [
    "#|export\n",
    "@dispatch\n",
    "def cast(x, typ):\n",
    "    \"Cast `x` to `typ` (may change `x` inplace)\"\n",
    "    res = typ._before_cast(x) if hasattr(typ,'_before_cast') else x\n",
    "    if risinstance('ndarray',res):   res = res.view(typ)\n",
    "    elif hasattr(res,'as_subclass'): res = res.as_subclass(typ)\n",
    "    else:\n",
    "        try: res.__class__ = typ\n",
    "        except: res = typ(res)\n",
    "    return retain_meta(x, res)"
   ]
  },
  {
   "cell_type": "markdown",
   "metadata": {},
   "source": [
    "This works both for plain python classes:..."
   ]
  },
  {
   "cell_type": "code",
   "execution_count": null,
   "metadata": {},
   "outputs": [],
   "source": [
    "mk_class('_T1', 'a')      # mk_class is a fastcore utility that constructs a class\n",
    "class _T2(_T1): pass\n",
    "\n",
    "t = _T1(a=1)\n",
    "t2 = cast(t, _T2)        \n",
    "assert t2 is t            # t2 refers to the same object as t\n",
    "assert isinstance(t,_T2)  # t also changed in-place\n",
    "assert isinstance(t2,_T2)\n",
    "\n",
    "test_eq_type(_T2(a=1), t2) "
   ]
  },
  {
   "cell_type": "markdown",
   "metadata": {},
   "source": [
    "...as well as for arrays and tensors."
   ]
  },
  {
   "cell_type": "code",
   "execution_count": null,
   "metadata": {},
   "outputs": [],
   "source": [
    "class _T1(np.ndarray): pass\n",
    "\n",
    "t = np.array([1])\n",
    "t2 = cast(t, _T1)\n",
    "test_eq(np.array([1]), t2)\n",
    "test_eq(_T1, type(t2))"
   ]
  },
  {
   "cell_type": "markdown",
   "metadata": {},
   "source": [
    "To customize casting for other types, define a separate `cast` function with `dispatch` for your type."
   ]
  },
  {
   "cell_type": "code",
   "execution_count": null,
   "metadata": {},
   "outputs": [],
   "source": [
    "#|export\n",
    "def retain_type(new, old=None, typ=None, as_copy=False):\n",
    "    \"Cast `new` to type of `old` or `typ` if it's a superclass\"\n",
    "    # e.g. old is TensorImage, new is Tensor - if not subclass then do nothing\n",
    "    if new is None: return\n",
    "    assert old is not None or typ is not None\n",
    "    if typ is None:\n",
    "        if not isinstance(old, type(new)): return new\n",
    "        typ = old if isinstance(old,type) else type(old)\n",
    "    # Do nothing the new type is already an instance of requested type (i.e. same type)\n",
    "    if typ==NoneType or isinstance(new, typ): return new\n",
    "    return retain_meta(old, cast(new, typ), as_copy=as_copy)"
   ]
  },
  {
   "cell_type": "code",
   "execution_count": null,
   "metadata": {},
   "outputs": [],
   "source": [
    "class _T(tuple): pass\n",
    "a = _T((1,2))\n",
    "b = tuple((1,2))\n",
    "c = retain_type(b, typ=_T)\n",
    "test_eq_type(c, a)"
   ]
  },
  {
   "cell_type": "markdown",
   "metadata": {},
   "source": [
    "If `old` has a `_meta` attribute, its content is passed when casting `new` to the type of `old`.  In the below example, only the attribute `a`, but not `other_attr` is kept, because `other_attr` is not in `_meta`:"
   ]
  },
  {
   "cell_type": "code",
   "execution_count": null,
   "metadata": {},
   "outputs": [],
   "source": [
    "def default_set_meta(self, x, as_copy=False):\n",
    "    \"Copy over `_meta` from `x` to `res`, if it's missing\"\n",
    "    if hasattr(x, '_meta') and not hasattr(self, '_meta'):\n",
    "        meta = x._meta\n",
    "        if as_copy: meta = copy(meta)\n",
    "        self._meta = meta\n",
    "    return self"
   ]
  },
  {
   "cell_type": "code",
   "execution_count": null,
   "metadata": {},
   "outputs": [],
   "source": [
    "class _A():\n",
    "    set_meta = default_set_meta\n",
    "    def __init__(self, t): self.t=t\n",
    "\n",
    "class _B1(_A):\n",
    "    def __init__(self, t, a=1):\n",
    "        super().__init__(t)\n",
    "        self._meta = {'a':a}\n",
    "        self.other_attr = 'Hello' # will not be kept after casting.\n",
    "        \n",
    "x = _B1(1, a=2)\n",
    "b = _A(1)\n",
    "c = retain_type(b, old=x)\n",
    "test_eq(c._meta, {'a': 2})\n",
    "assert not getattr(c, 'other_attr', None)"
   ]
  },
  {
   "cell_type": "code",
   "execution_count": null,
   "metadata": {},
   "outputs": [],
   "source": [
    "#|export\n",
    "def retain_types(new, old=None, typs=None):\n",
    "    \"Cast each item of `new` to type of matching item in `old` if it's a superclass\"\n",
    "    if not is_listy(new): return retain_type(new, old, typs)\n",
    "    if typs is not None:\n",
    "        if isinstance(typs, dict):\n",
    "            t = first(typs.keys())\n",
    "            typs = typs[t]\n",
    "        else: t,typs = typs,None\n",
    "    else: t = type(old) if old is not None and isinstance(old,type(new)) else type(new)\n",
    "    return t(L(new, old, typs).map_zip(retain_types, cycled=True))"
   ]
  },
  {
   "cell_type": "code",
   "execution_count": null,
   "metadata": {},
   "outputs": [],
   "source": [
    "class T(tuple): pass\n",
    "\n",
    "t1,t2 = retain_types((1,(1,(1,1))), (2,T((2,T((3,4))))))\n",
    "test_eq_type(t1, 1)\n",
    "test_eq_type(t2, T((1,T((1,1)))))\n",
    "\n",
    "t1,t2 = retain_types((1,(1,(1,1))), typs = {tuple: [int, {T: [int, {T: [int,int]}]}]})\n",
    "test_eq_type(t1, 1)\n",
    "test_eq_type(t2, T((1,T((1,1)))))"
   ]
  },
  {
   "cell_type": "code",
   "execution_count": null,
   "metadata": {},
   "outputs": [],
   "source": [
    "#|export\n",
    "def explode_types(o):\n",
    "    \"Return the type of `o`, potentially in nested dictionaries for thing that are listy\"\n",
    "    if not is_listy(o): return type(o)\n",
    "    return {type(o): [explode_types(o_) for o_ in o]}"
   ]
  },
  {
   "cell_type": "code",
   "execution_count": null,
   "metadata": {},
   "outputs": [],
   "source": [
    "test_eq(explode_types((2,T((2,T((3,4)))))), {tuple: [int, {T: [int, {T: [int,int]}]}]})"
   ]
  },
  {
   "cell_type": "code",
   "execution_count": null,
   "metadata": {},
   "outputs": [],
   "source": [
    "#|hide\n",
    "#|eval: false\n",
    "from nbprocess.doclinks import nbprocess_export\n",
    "nbprocess_export()"
   ]
  }
 ],
 "metadata": {
  "kernelspec": {
   "display_name": "Python 3 (ipykernel)",
   "language": "python",
   "name": "python3"
  }
 },
 "nbformat": 4,
 "nbformat_minor": 4
}
